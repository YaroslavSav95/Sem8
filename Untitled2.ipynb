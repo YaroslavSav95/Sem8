{
  "nbformat": 4,
  "nbformat_minor": 0,
  "metadata": {
    "colab": {
      "provenance": [],
      "authorship_tag": "ABX9TyPia4BmberDJj9Kb6tlgUBp",
      "include_colab_link": true
    },
    "kernelspec": {
      "name": "python3",
      "display_name": "Python 3"
    },
    "language_info": {
      "name": "python"
    }
  },
  "cells": [
    {
      "cell_type": "markdown",
      "metadata": {
        "id": "view-in-github",
        "colab_type": "text"
      },
      "source": [
        "<a href=\"https://colab.research.google.com/github/YaroslavSav95/Sem8/blob/main/Untitled2.ipynb\" target=\"_parent\"><img src=\"https://colab.research.google.com/assets/colab-badge.svg\" alt=\"Open In Colab\"/></a>"
      ]
    },
    {
      "cell_type": "code",
      "execution_count": null,
      "metadata": {
        "id": "h2U6yzojduqZ"
      },
      "outputs": [],
      "source": [
        "def sort_data(number,read,write,sor,da,data):\n",
        "    while True: \n",
        "        d=number()\n",
        "        if d=='1':\n",
        "            print(*da(0,read()),sep='\\n')    \n",
        "        elif d=='2':\n",
        "            print(*da(1,read()),sep='\\n')        \n",
        "        elif d=='3':\n",
        "            print(*da(2,read()),sep='\\n')    \n",
        "        elif d=='4':\n",
        "            print(*sor(input('Введите № группы: '),read()),sep='')   \n",
        "        elif d=='5':\n",
        "            print(*read(),sep='')\n",
        "        elif d=='6':\n",
        "            print(*sor(input('Введите фамилию студента:'),read()),sep='')    \n",
        "        elif d=='7':\n",
        "            write(data())\n",
        "        elif d=='8':\n",
        "            print('До новых встреч!')        \n",
        "            break"
      ]
    },
    {
      "cell_type": "code",
      "source": [
        "def get_da(n,f):\n",
        "    li=[]\n",
        "    for i in f:\n",
        "        li.append(i.split()[n])\n",
        "    return li\n",
        "\n",
        "\n",
        "def sort(n,f):\n",
        "    li=[]\n",
        "    for i in f:\n",
        "        if n in i:\n",
        "            li.append(i)\n",
        "    return li  "
      ],
      "metadata": {
        "id": "wX_gTh4Dd0go"
      },
      "execution_count": null,
      "outputs": []
    },
    {
      "cell_type": "code",
      "source": [
        "import modyl1\n",
        "\n",
        "modyl1.button()"
      ],
      "metadata": {
        "id": "0kvhuj4jd4hn"
      },
      "execution_count": null,
      "outputs": []
    },
    {
      "cell_type": "code",
      "source": [
        "from Sortirovka import sort,get_da\n",
        "from vievBD import get_number_operation,get_data\n",
        "from read_file_stydent import  file_stydent\n",
        "from main import sort_data\n",
        "\n",
        "\n",
        "def button():\n",
        "    return sort_data(get_number_operation,file_stydent,sort,get_da,get_data)"
      ],
      "metadata": {
        "id": "SJigsY_wd4lP"
      },
      "execution_count": null,
      "outputs": []
    },
    {
      "cell_type": "code",
      "source": [
        "def write_file(data):\n",
        "    with open('file_stydent.csv','a') as file:\n",
        "        file.writelines(data)\n",
        "          \n",
        "def read_file():\n",
        "    with open('file_stydent.csv','r') as file:\n",
        "        return file.readlines()"
      ],
      "metadata": {
        "id": "jAhFI2OJd4p3"
      },
      "execution_count": null,
      "outputs": []
    },
    {
      "cell_type": "code",
      "source": [
        "def get_data():\n",
        "    \n",
        "    return f\"{input('Введите фамилию: ')} {input('Введите имя: ')} {input('Введите группу: ')} {input('Введите Предмет: ')}\\n\"\n",
        "\n",
        "def get_number_operasion():\n",
        "    return input('Выберите номер категории\\n \\\n",
        "        где: 1-показать все фамилии\\n \\\n",
        "             2-показать все имена\\n \\\n",
        "             3-показать все № групп\\n \\\n",
        "             4-показать все предметы\\n \\\n",
        "             5-показать студентов выбранного группы\\n \\\n",
        "             6-показать всю таблицу\\n \\\n",
        "             7-показать информацию по студенту\\n \\\n",
        "             8-добавить студента\\n \\\n",
        "             9-выход\\n ')    "
      ],
      "metadata": {
        "id": "pw3rg7cXeLWY"
      },
      "execution_count": null,
      "outputs": []
    }
  ]
}